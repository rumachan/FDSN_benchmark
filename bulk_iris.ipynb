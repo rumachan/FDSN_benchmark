{
 "cells": [
  {
   "cell_type": "markdown",
   "metadata": {},
   "source": [
    "# Compare GeoNet and IRIS for a single download for a series of common sites\n",
    "\n",
    "I have only, and always, used HHZ"
   ]
  },
  {
   "cell_type": "code",
   "execution_count": null,
   "metadata": {},
   "outputs": [],
   "source": [
    "import pandas as pd\n",
    "import matplotlib.pyplot as plt"
   ]
  },
  {
   "cell_type": "code",
   "execution_count": null,
   "metadata": {},
   "outputs": [],
   "source": [
    "names_geonet = ['time_total_geonet', 'time_starttransfer_geonet', 'time_pretransfer_geonet', 'speed_download_geonet', 'url']\n",
    "names_iris = ['time_total_iris', 'time_starttransfer_iris', 'time_pretransfer_iris', 'speed_download_iris', 'url']"
   ]
  },
  {
   "cell_type": "markdown",
   "metadata": {},
   "source": [
    "## GeoNet"
   ]
  },
  {
   "cell_type": "code",
   "execution_count": null,
   "metadata": {},
   "outputs": [],
   "source": [
    "geonet = pd.read_csv('logfile.geonet', names=names_geonet)"
   ]
  },
  {
   "cell_type": "code",
   "execution_count": null,
   "metadata": {},
   "outputs": [],
   "source": [
    "#get site name from url, then drop url\n",
    "geonet['site'] = geonet['url'].str.split(pat='&', expand=True)[1].str.split(pat='=', expand=True)[1]\n",
    "geonet.drop(columns=['url'], inplace=True)\n",
    "\n",
    "geonet['time_server_geonet'] = geonet['time_starttransfer_geonet'] - geonet['time_pretransfer_geonet']\n",
    "\n",
    "#label as GeoNet\n",
    "# geonet['source'] = 'GeoNet'"
   ]
  },
  {
   "cell_type": "code",
   "execution_count": null,
   "metadata": {},
   "outputs": [],
   "source": [
    "geonet.head()"
   ]
  },
  {
   "cell_type": "markdown",
   "metadata": {},
   "source": [
    "## IRIS"
   ]
  },
  {
   "cell_type": "code",
   "execution_count": null,
   "metadata": {},
   "outputs": [],
   "source": [
    "iris = pd.read_csv('logfile.iris', names=names_iris)"
   ]
  },
  {
   "cell_type": "code",
   "execution_count": null,
   "metadata": {},
   "outputs": [],
   "source": [
    "#get site name from url, then drop url\n",
    "iris['site'] = iris['url'].str.split(pat='&', expand=True)[1].str.split(pat='=', expand=True)[1]\n",
    "iris.drop(columns=['url'], inplace=True)\n",
    "\n",
    "iris['time_server_iris'] = iris['time_starttransfer_iris'] - iris['time_pretransfer_iris']\n",
    "\n",
    "#label as GeoNet\n",
    "# iris['source'] = 'IRIS'"
   ]
  },
  {
   "cell_type": "code",
   "execution_count": null,
   "metadata": {},
   "outputs": [],
   "source": [
    "iris.head()"
   ]
  },
  {
   "cell_type": "markdown",
   "metadata": {},
   "source": [
    "## Merge dataframes"
   ]
  },
  {
   "cell_type": "code",
   "execution_count": null,
   "metadata": {},
   "outputs": [],
   "source": [
    "data = pd.merge(geonet,iris,on='site')\n",
    "data"
   ]
  },
  {
   "cell_type": "markdown",
   "metadata": {},
   "source": [
    "## Visualize"
   ]
  },
  {
   "cell_type": "markdown",
   "metadata": {},
   "source": [
    "### Total time"
   ]
  },
  {
   "cell_type": "code",
   "execution_count": null,
   "metadata": {},
   "outputs": [],
   "source": [
    "# fig,ax = plt.subplots(1, 1, figsize=(15,7.5))\n",
    "\n",
    "bar = data.plot.barh(x='site',y=['time_total_geonet','time_total_iris'], figsize=(15,7.5))\n",
    "bar.set_xlabel('total time to receive file (s)')\n",
    "bar.set_title('Total time')\n",
    "\n",
    "fig = bar.get_figure()\n",
    "fig.savefig('total_time.png')"
   ]
  },
  {
   "cell_type": "markdown",
   "metadata": {},
   "source": [
    "### Download speed"
   ]
  },
  {
   "cell_type": "code",
   "execution_count": null,
   "metadata": {},
   "outputs": [],
   "source": [
    "# fig,ax = plt.subplots(1, 1, figsize=(15,7.5))\n",
    "\n",
    "bar = data.plot.barh(x='site',y=['speed_download_geonet','speed_download_iris'], figsize=(15,7.5))\n",
    "bar.set_xlabel('download speed (bytes/s)')\n",
    "bar.set_title('Download speed')\n",
    "\n",
    "fig = bar.get_figure()\n",
    "fig.savefig('download_speed.png')"
   ]
  },
  {
   "cell_type": "markdown",
   "metadata": {},
   "source": [
    "### Server time"
   ]
  },
  {
   "cell_type": "code",
   "execution_count": null,
   "metadata": {},
   "outputs": [],
   "source": [
    "# fig,ax = plt.subplots(1, 1, figsize=(15,7.5))\n",
    "\n",
    "bar = data.plot.barh(x='site',y=['time_server_geonet','time_server_iris'], figsize=(15,7.5))\n",
    "bar.set_xlabel('server time (s)')\n",
    "bar.set_title('Server time')\n",
    "\n",
    "fig = bar.get_figure()\n",
    "fig.savefig('server_time.png')"
   ]
  }
 ],
 "metadata": {
  "kernelspec": {
   "display_name": "Python 3",
   "language": "python",
   "name": "python3"
  },
  "language_info": {
   "codemirror_mode": {
    "name": "ipython",
    "version": 3
   },
   "file_extension": ".py",
   "mimetype": "text/x-python",
   "name": "python",
   "nbconvert_exporter": "python",
   "pygments_lexer": "ipython3",
   "version": "3.7.3"
  }
 },
 "nbformat": 4,
 "nbformat_minor": 4
}
