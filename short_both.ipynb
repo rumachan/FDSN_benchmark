{
 "cells": [
  {
   "cell_type": "markdown",
   "metadata": {},
   "source": [
    "# How long to download all GeoNet weak-motion stations for an arbitrary 15 minute interval, from service and service-nrt"
   ]
  },
  {
   "cell_type": "code",
   "execution_count": null,
   "metadata": {},
   "outputs": [],
   "source": [
    "import pandas as pd\n",
    "import matplotlib.pyplot as plt"
   ]
  },
  {
   "cell_type": "code",
   "execution_count": null,
   "metadata": {},
   "outputs": [],
   "source": [
    "names_s = ['time_total_s', 'time_starttransfer_s', 'time_pretransfer_s', 'speed_download_s', 'size_download_s', 'url']\n",
    "names_n = ['time_total_n', 'time_starttransfer_n', 'time_pretransfer_n', 'speed_download_n', 'size_download_n', 'url']"
   ]
  },
  {
   "cell_type": "markdown",
   "metadata": {},
   "source": [
    "## Service"
   ]
  },
  {
   "cell_type": "code",
   "execution_count": null,
   "metadata": {},
   "outputs": [],
   "source": [
    "data_s = pd.read_csv('logfile.short.ser', names=names_s)"
   ]
  },
  {
   "cell_type": "code",
   "execution_count": null,
   "metadata": {},
   "outputs": [],
   "source": [
    "#get site name from url, then drop url\n",
    "data_s['site'] = data_s['url'].str.split(pat='?', expand=True)[1].str.split(pat='&', expand=True)[0].str.split(pat='=', expand=True)[1]\n",
    "data_s.drop(columns=['url'], inplace=True)\n",
    "\n",
    "data_s['time_server_s'] = data_s['time_starttransfer_s'] - data_s['time_pretransfer_s']"
   ]
  },
  {
   "cell_type": "code",
   "execution_count": null,
   "metadata": {},
   "outputs": [],
   "source": [
    "data_s.head()"
   ]
  },
  {
   "cell_type": "markdown",
   "metadata": {},
   "source": [
    "## Service-nrt"
   ]
  },
  {
   "cell_type": "code",
   "execution_count": null,
   "metadata": {},
   "outputs": [],
   "source": [
    "data_n = pd.read_csv('logfile.short.nrt', names=names_n)"
   ]
  },
  {
   "cell_type": "code",
   "execution_count": null,
   "metadata": {},
   "outputs": [],
   "source": [
    "#get site name from url, then drop url\n",
    "data_n['site'] = data_n['url'].str.split(pat='?', expand=True)[1].str.split(pat='&', expand=True)[0].str.split(pat='=', expand=True)[1]\n",
    "data_n.drop(columns=['url'], inplace=True)\n",
    "\n",
    "data_n['time_server_n'] = data_n['time_starttransfer_n'] - data_n['time_pretransfer_n']"
   ]
  },
  {
   "cell_type": "code",
   "execution_count": null,
   "metadata": {},
   "outputs": [],
   "source": [
    "data_n.head()"
   ]
  },
  {
   "cell_type": "markdown",
   "metadata": {},
   "source": [
    "## Merge dataframes"
   ]
  },
  {
   "cell_type": "code",
   "execution_count": null,
   "metadata": {},
   "outputs": [],
   "source": [
    "data = pd.merge(data_s,data_n,on='site')\n",
    "data.head()"
   ]
  },
  {
   "cell_type": "markdown",
   "metadata": {},
   "source": [
    "## Analysis"
   ]
  },
  {
   "cell_type": "code",
   "execution_count": null,
   "metadata": {},
   "outputs": [],
   "source": [
    "#total download time\n",
    "print (data.time_total_s.sum())\n",
    "print (data.time_total_n.sum())"
   ]
  },
  {
   "cell_type": "code",
   "execution_count": null,
   "metadata": {},
   "outputs": [],
   "source": [
    "#total download, in Mb\n",
    "print (data.size_download_s.sum()/10**6)\n",
    "print (data.size_download_n.sum()/10**6)"
   ]
  },
  {
   "cell_type": "code",
   "execution_count": null,
   "metadata": {},
   "outputs": [],
   "source": [
    "#download speed, in kb/s, it differs for each site request\n",
    "print ((data.speed_download_s/10**3).describe())\n",
    "print ((data.speed_download_n/10**3).describe())"
   ]
  },
  {
   "cell_type": "markdown",
   "metadata": {},
   "source": [
    "## Visualize"
   ]
  },
  {
   "cell_type": "markdown",
   "metadata": {},
   "source": [
    "### Total time"
   ]
  },
  {
   "cell_type": "code",
   "execution_count": null,
   "metadata": {},
   "outputs": [],
   "source": [
    "bar = data.plot.barh(x='site',y=['time_total_s', 'time_total_n'], figsize=(15,50))\n",
    "bar.set_xlabel('total time to receive site data (s)')\n",
    "bar.set_title('Total time')\n",
    "bar.grid(axis='x')\n",
    "\n",
    "fig = bar.get_figure()\n",
    "fig.savefig('total_time_short.png')"
   ]
  },
  {
   "cell_type": "markdown",
   "metadata": {},
   "source": [
    "### Server time"
   ]
  },
  {
   "cell_type": "code",
   "execution_count": null,
   "metadata": {},
   "outputs": [],
   "source": [
    "bar = data.plot.barh(x='site',y=['time_server_s', 'time_server_n'], figsize=(15,50))\n",
    "bar.set_xlabel('server time (s)')\n",
    "bar.set_title('Server time')\n",
    "bar.grid(axis='x')\n",
    "\n",
    "fig = bar.get_figure()\n",
    "fig.savefig('server_time_short.png')"
   ]
  }
 ],
 "metadata": {
  "kernelspec": {
   "display_name": "Python 3",
   "language": "python",
   "name": "python3"
  },
  "language_info": {
   "codemirror_mode": {
    "name": "ipython",
    "version": 3
   },
   "file_extension": ".py",
   "mimetype": "text/x-python",
   "name": "python",
   "nbconvert_exporter": "python",
   "pygments_lexer": "ipython3",
   "version": "3.7.3"
  }
 },
 "nbformat": 4,
 "nbformat_minor": 4
}
